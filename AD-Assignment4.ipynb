{
 "cells": [
  {
   "cell_type": "code",
   "execution_count": 1,
   "id": "336a364c",
   "metadata": {},
   "outputs": [
    {
     "name": "stdout",
     "output_type": "stream",
     "text": [
      "Enter a positive integer n: 4\n",
      "Sum of all even numbers between 1 and 4 is: 6\n"
     ]
    }
   ],
   "source": [
    "n = int(input(\"Enter a positive integer n: \"))\n",
    "sum_of_even_numbers = 0\n",
    "for number in range(1, n+1):\n",
    "    if number % 2 == 0: \n",
    "        sum_of_even_numbers += number  \n",
    "print(\"Sum of all even numbers between 1 and\", n, \"is:\", sum_of_even_numbers)\n"
   ]
  },
  {
   "cell_type": "code",
   "execution_count": null,
   "id": "adee486e",
   "metadata": {},
   "outputs": [],
   "source": []
  }
 ],
 "metadata": {
  "kernelspec": {
   "display_name": "Python 3 (ipykernel)",
   "language": "python",
   "name": "python3"
  },
  "language_info": {
   "codemirror_mode": {
    "name": "ipython",
    "version": 3
   },
   "file_extension": ".py",
   "mimetype": "text/x-python",
   "name": "python",
   "nbconvert_exporter": "python",
   "pygments_lexer": "ipython3",
   "version": "3.11.5"
  }
 },
 "nbformat": 4,
 "nbformat_minor": 5
}
